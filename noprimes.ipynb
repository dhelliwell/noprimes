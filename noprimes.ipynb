{
 "cells": [
  {
   "cell_type": "markdown",
   "metadata": {},
   "source": [
    "The following is an exploration of an example taken from: http://www.secnetix.de/olli/Python/list_comprehensions.hawk"
   ]
  },
  {
   "cell_type": "code",
   "execution_count": 19,
   "metadata": {
    "collapsed": true
   },
   "outputs": [],
   "source": [
    "noprimes = [j for i in range(2, 8) for j in range(i*2, 50, i)]"
   ]
  },
  {
   "cell_type": "code",
   "execution_count": 20,
   "metadata": {
    "collapsed": false
   },
   "outputs": [
    {
     "name": "stdout",
     "output_type": "stream",
     "text": [
      "[4, 6, 8, 10, 12, 14, 16, 18, 20, 22, 24, 26, 28, 30, 32, 34, 36, 38, 40, 42, 44, 46, 48, 6, 9, 12, 15, 18, 21, 24, 27, 30, 33, 36, 39, 42, 45, 48, 8, 12, 16, 20, 24, 28, 32, 36, 40, 44, 48, 10, 15, 20, 25, 30, 35, 40, 45, 12, 18, 24, 30, 36, 42, 48, 14, 21, 28, 35, 42, 49]\n"
     ]
    }
   ],
   "source": [
    "print(noprimes)"
   ]
  },
  {
   "cell_type": "markdown",
   "metadata": {},
   "source": [
    "Let's take a quick look at the first for statement."
   ]
  },
  {
   "cell_type": "code",
   "execution_count": 21,
   "metadata": {
    "collapsed": false
   },
   "outputs": [
    {
     "name": "stdout",
     "output_type": "stream",
     "text": [
      "[2, 3, 4, 5, 6, 7]\n"
     ]
    }
   ],
   "source": [
    "result = []\n",
    "for i in range(2, 8):\n",
    "    result.append(i)\n",
    "print(result)"
   ]
  },
  {
   "cell_type": "markdown",
   "metadata": {},
   "source": [
    "Easy enough. Now let's look at some of the i values one at a time."
   ]
  },
  {
   "cell_type": "code",
   "execution_count": 22,
   "metadata": {
    "collapsed": false
   },
   "outputs": [
    {
     "name": "stdout",
     "output_type": "stream",
     "text": [
      "[4, 6, 8, 10, 12, 14, 16, 18, 20, 22, 24, 26, 28, 30, 32, 34, 36, 38, 40, 42, 44, 46, 48]\n"
     ]
    }
   ],
   "source": [
    "i =  2\n",
    "result = []\n",
    "for j in range(i*2, 50, i):\n",
    "     result.append(j)\n",
    "print(result)"
   ]
  },
  {
   "cell_type": "code",
   "execution_count": 23,
   "metadata": {
    "collapsed": false
   },
   "outputs": [
    {
     "name": "stdout",
     "output_type": "stream",
     "text": [
      "[8, 12, 16, 20, 24, 28, 32, 36, 40, 44, 48]\n"
     ]
    }
   ],
   "source": [
    "i =  4\n",
    "result = []\n",
    "for j in range(i*2, 50, i):\n",
    "     result.append(j)\n",
    "print(result)"
   ]
  },
  {
   "cell_type": "code",
   "execution_count": 24,
   "metadata": {
    "collapsed": false
   },
   "outputs": [
    {
     "data": {
      "text/plain": [
       "[14, 21, 28, 35, 42, 49]"
      ]
     },
     "execution_count": 24,
     "metadata": {},
     "output_type": "execute_result"
    }
   ],
   "source": [
    "i =  7\n",
    "result = []\n",
    "for j in range(i*2, 50, i):\n",
    "     result.append(j)\n",
    "result[:10]"
   ]
  },
  {
   "cell_type": "markdown",
   "metadata": {},
   "source": [
    "Okay so:\n",
    "  * i = 2 gives the even numbers from 4 to 48\n",
    "  * i = 4 gives the multiples of 3 from 6 to 48\n",
    "  * i = 7 gives the multiples of 7 from 14 to 49\n",
    "  \n",
    "In other words the statement \n",
    "```python\n",
    "for j in range(i*2, 50, i)\n",
    "```\n",
    "says, count by j's up to 50 starting with j*2.  \n",
    "\n",
    "There are a few repeated composite numbers that show up using this approach but it does insure that all positive composite numbers less than 50 will be represented.\n",
    "\n",
    "The choice to stop at 50 is basically arbitrary.  A larger number could have been chosen without missing any non prime numbers.\n",
    "\n",
    "**Exercise:**\n",
    "Increase the number 50 until a composite number gets missed."
   ]
  },
  {
   "cell_type": "code",
   "execution_count": null,
   "metadata": {
    "collapsed": true
   },
   "outputs": [],
   "source": []
  }
 ],
 "metadata": {
  "anaconda-cloud": {},
  "kernelspec": {
   "display_name": "Python [conda env:py35]",
   "language": "python",
   "name": "conda-env-py35-py"
  },
  "language_info": {
   "codemirror_mode": {
    "name": "ipython",
    "version": 3
   },
   "file_extension": ".py",
   "mimetype": "text/x-python",
   "name": "python",
   "nbconvert_exporter": "python",
   "pygments_lexer": "ipython3",
   "version": "3.5.2"
  }
 },
 "nbformat": 4,
 "nbformat_minor": 1
}
